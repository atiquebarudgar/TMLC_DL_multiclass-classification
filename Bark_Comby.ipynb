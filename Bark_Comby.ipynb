{
 "cells": [
  {
   "cell_type": "code",
   "execution_count": 1,
   "id": "6c8a9c89",
   "metadata": {},
   "outputs": [],
   "source": [
    "import numpy as np\n",
    "import pandas as pd \n",
    "from keras.preprocessing.image import ImageDataGenerator\n",
    "from tensorflow.keras.preprocessing.image import load_img\n",
    "from keras.utils import to_categorical \n",
    "from sklearn.model_selection import train_test_split\n",
    "import matplotlib.pyplot as plt\n",
    "import random\n",
    "import os"
   ]
  },
  {
   "cell_type": "code",
   "execution_count": 2,
   "id": "0952c10d",
   "metadata": {},
   "outputs": [],
   "source": [
    "import tensorflow as tf\n",
    "import numpy as np"
   ]
  },
  {
   "cell_type": "code",
   "execution_count": 3,
   "id": "43e89fdc",
   "metadata": {},
   "outputs": [],
   "source": [
    "data_dir=r\"C:/Users/LENOVO/Documents/Edvancer_DL_Coding/Project_TMLC/Barkk\""
   ]
  },
  {
   "cell_type": "code",
   "execution_count": 4,
   "id": "b6b59155",
   "metadata": {},
   "outputs": [
    {
     "data": {
      "text/plain": [
       "'C:/Users/LENOVO/Documents/Edvancer_DL_Coding/Project_TMLC/Barkk'"
      ]
     },
     "execution_count": 4,
     "metadata": {},
     "output_type": "execute_result"
    }
   ],
   "source": [
    "data_dir"
   ]
  },
  {
   "cell_type": "code",
   "execution_count": 5,
   "id": "95551c22",
   "metadata": {},
   "outputs": [],
   "source": [
    "filenames = os.listdir('C:/Users/LENOVO/Documents/Edvancer_DL_Coding/Project_TMLC/Barkk/')"
   ]
  },
  {
   "cell_type": "code",
   "execution_count": 6,
   "id": "56a72f30",
   "metadata": {},
   "outputs": [
    {
     "data": {
      "text/plain": [
       "['Acacia', 'Barringtonia acutangula', 'Cedrus', 'Citrus grandis']"
      ]
     },
     "execution_count": 6,
     "metadata": {},
     "output_type": "execute_result"
    }
   ],
   "source": [
    "filenames"
   ]
  },
  {
   "cell_type": "code",
   "execution_count": 12,
   "id": "ca8478df",
   "metadata": {},
   "outputs": [
    {
     "ename": "FileNotFoundError",
     "evalue": "[WinError 3] The system cannot find the path specified: 'C:/Users/LENOVO/Documents/Edvancer_DL_Coding/Project_TMLC/Barkk/category[0]'",
     "output_type": "error",
     "traceback": [
      "\u001b[1;31m---------------------------------------------------------------------------\u001b[0m",
      "\u001b[1;31mFileNotFoundError\u001b[0m                         Traceback (most recent call last)",
      "\u001b[1;32m~\\AppData\\Local\\Temp/ipykernel_12984/141621671.py\u001b[0m in \u001b[0;36m<module>\u001b[1;34m\u001b[0m\n\u001b[0;32m      2\u001b[0m \u001b[1;32mfor\u001b[0m \u001b[0mfilename\u001b[0m \u001b[1;32min\u001b[0m \u001b[0mfilenames\u001b[0m\u001b[1;33m:\u001b[0m\u001b[1;33m\u001b[0m\u001b[1;33m\u001b[0m\u001b[0m\n\u001b[0;32m      3\u001b[0m     \u001b[0mcategory\u001b[0m \u001b[1;33m=\u001b[0m \u001b[0mfilename\u001b[0m\u001b[1;33m\u001b[0m\u001b[1;33m\u001b[0m\u001b[0m\n\u001b[1;32m----> 4\u001b[1;33m     \u001b[0mxx\u001b[0m\u001b[1;33m=\u001b[0m\u001b[0mos\u001b[0m\u001b[1;33m.\u001b[0m\u001b[0mlistdir\u001b[0m\u001b[1;33m(\u001b[0m\u001b[1;34m'C:/Users/LENOVO/Documents/Edvancer_DL_Coding/Project_TMLC/Barkk/category[0]'\u001b[0m\u001b[1;33m)\u001b[0m\u001b[1;33m\u001b[0m\u001b[1;33m\u001b[0m\u001b[0m\n\u001b[0m\u001b[0;32m      5\u001b[0m     \u001b[0mprint\u001b[0m\u001b[1;33m(\u001b[0m\u001b[0mcategory\u001b[0m\u001b[1;33m)\u001b[0m\u001b[1;33m\u001b[0m\u001b[1;33m\u001b[0m\u001b[0m\n",
      "\u001b[1;31mFileNotFoundError\u001b[0m: [WinError 3] The system cannot find the path specified: 'C:/Users/LENOVO/Documents/Edvancer_DL_Coding/Project_TMLC/Barkk/category[0]'"
     ]
    }
   ],
   "source": [
    "folders = []\n",
    "for filename in filenames:\n",
    "    if folder=filename\n",
    "   "
   ]
  },
  {
   "cell_type": "code",
   "execution_count": 13,
   "id": "cbc39e35",
   "metadata": {},
   "outputs": [
    {
     "ename": "NameError",
     "evalue": "name 'content_list' is not defined",
     "output_type": "error",
     "traceback": [
      "\u001b[1;31m---------------------------------------------------------------------------\u001b[0m",
      "\u001b[1;31mNameError\u001b[0m                                 Traceback (most recent call last)",
      "\u001b[1;32m~\\AppData\\Local\\Temp/ipykernel_12984/2608876439.py\u001b[0m in \u001b[0;36m<module>\u001b[1;34m\u001b[0m\n\u001b[1;32m----> 1\u001b[1;33m \u001b[1;32mfor\u001b[0m \u001b[0msub_dir\u001b[0m \u001b[1;32min\u001b[0m \u001b[0mcontent_list\u001b[0m\u001b[1;33m:\u001b[0m\u001b[1;33m\u001b[0m\u001b[1;33m\u001b[0m\u001b[0m\n\u001b[0m\u001b[0;32m      2\u001b[0m \u001b[1;33m\u001b[0m\u001b[0m\n\u001b[0;32m      3\u001b[0m     \u001b[1;31m# loop through the contents of the\u001b[0m\u001b[1;33m\u001b[0m\u001b[1;33m\u001b[0m\u001b[0m\n\u001b[0;32m      4\u001b[0m     \u001b[1;31m# list of folders\u001b[0m\u001b[1;33m\u001b[0m\u001b[1;33m\u001b[0m\u001b[0m\n\u001b[0;32m      5\u001b[0m     \u001b[1;32mfor\u001b[0m \u001b[0mcontents\u001b[0m \u001b[1;32min\u001b[0m \u001b[0mcontent_list\u001b[0m\u001b[1;33m[\u001b[0m\u001b[0msub_dir\u001b[0m\u001b[1;33m]\u001b[0m\u001b[1;33m:\u001b[0m\u001b[1;33m\u001b[0m\u001b[1;33m\u001b[0m\u001b[0m\n",
      "\u001b[1;31mNameError\u001b[0m: name 'content_list' is not defined"
     ]
    }
   ],
   "source": [
    "for sub_dir in content_list:\n",
    "  \n",
    "    # loop through the contents of the\n",
    "    # list of folders\n",
    "    for contents in content_list[sub_dir]:\n",
    "  \n",
    "        # make the path of the content to move \n",
    "        path_to_content = sub_dir + \"/\" + contents  \n",
    "  \n",
    "        # make the path with the current folder\n",
    "        dir_to_move = os.path.join(current_folder, path_to_content )\n",
    "  \n",
    "        # move the file\n",
    "        shutil.move(dir_to_move, merge_folder_path)"
   ]
  },
  {
   "cell_type": "code",
   "execution_count": 20,
   "id": "73a52dc3",
   "metadata": {},
   "outputs": [],
   "source": [
    "import glob\n",
    "import shutil\n",
    "import os\n",
    "\n",
    "src_dir = \"C:/Users/LENOVO/Documents/Edvancer_DL_Coding/Project_TMLC/Barkk/*\"\n",
    "dst_dir = \"C:/Users/LENOVO/Documents/Edvancer_DL_Coding/Project_TMLC/Dest/\"\n",
    "for jpgfile in glob.iglob(os.path.join(src_dir, \"*.jpg\")):\n",
    "    shutil.copy(jpgfile, dst_dir)"
   ]
  },
  {
   "cell_type": "code",
   "execution_count": 16,
   "id": "142ee099",
   "metadata": {},
   "outputs": [
    {
     "data": {
      "text/plain": [
       "['Acacia', 'Barringtonia acutangula', 'Cedrus', 'Citrus grandis']"
      ]
     },
     "execution_count": 16,
     "metadata": {},
     "output_type": "execute_result"
    }
   ],
   "source": [
    "filenames"
   ]
  },
  {
   "cell_type": "code",
   "execution_count": 17,
   "id": "91e12942",
   "metadata": {},
   "outputs": [],
   "source": [
    "list_dir = filenames"
   ]
  },
  {
   "cell_type": "code",
   "execution_count": 18,
   "id": "3401daa7",
   "metadata": {},
   "outputs": [
    {
     "data": {
      "text/plain": [
       "['Acacia', 'Barringtonia acutangula', 'Cedrus', 'Citrus grandis']"
      ]
     },
     "execution_count": 18,
     "metadata": {},
     "output_type": "execute_result"
    }
   ],
   "source": [
    "list_dir"
   ]
  },
  {
   "cell_type": "code",
   "execution_count": 19,
   "id": "3eb02482",
   "metadata": {},
   "outputs": [
    {
     "data": {
      "text/plain": [
       "'C:\\\\Users\\\\LENOVO\\\\Documents\\\\Edvancer_DL_Coding\\\\Project_TMLC'"
      ]
     },
     "execution_count": 19,
     "metadata": {},
     "output_type": "execute_result"
    }
   ],
   "source": [
    "pwd"
   ]
  },
  {
   "cell_type": "code",
   "execution_count": null,
   "id": "7396076e",
   "metadata": {},
   "outputs": [],
   "source": [
    "\n",
    "# current folder path\n",
    "current_folder = os.getcwd() \n",
    "  \n",
    "# list of folders to be merged\n",
    "list_dir = filenames\n",
    "  \n",
    "# enumerate on list_dir to get the \n",
    "# content of all the folders ans store it in a dictionary\n",
    "content_list = {}\n",
    "for index, val in enumerate(list_dir):\n",
    "    path = os.path.join(current_folder, val)\n",
    "    content_list[ list_dir[index] ] = os.listdir(path)"
   ]
  },
  {
   "cell_type": "code",
   "execution_count": 37,
   "id": "c47a729b",
   "metadata": {},
   "outputs": [],
   "source": [
    "old_name = r\"C:/Users/LENOVO/Documents/Edvancer_DL_Coding/Project_TMLC/Barkk/Acacia/*\""
   ]
  },
  {
   "cell_type": "code",
   "execution_count": 31,
   "id": "bbfda067",
   "metadata": {},
   "outputs": [],
   "source": [
    "new_name = r\"C:/Users/LENOVO/Documents/Edvancer_DL_Coding/Project_TMLC/Barkk/Acacia/Acacia1.jpg\""
   ]
  },
  {
   "cell_type": "code",
   "execution_count": 38,
   "id": "bd1da033",
   "metadata": {},
   "outputs": [
    {
     "ename": "OSError",
     "evalue": "[WinError 123] The filename, directory name, or volume label syntax is incorrect: 'C:/Users/LENOVO/Documents/Edvancer_DL_Coding/Project_TMLC/Barkk/Acacia/*' -> 'C:/Users/LENOVO/Documents/Edvancer_DL_Coding/Project_TMLC/Barkk/Acacia/Acacia1.jpg'",
     "output_type": "error",
     "traceback": [
      "\u001b[1;31m---------------------------------------------------------------------------\u001b[0m",
      "\u001b[1;31mOSError\u001b[0m                                   Traceback (most recent call last)",
      "\u001b[1;32m~\\AppData\\Local\\Temp/ipykernel_12984/998333912.py\u001b[0m in \u001b[0;36m<module>\u001b[1;34m\u001b[0m\n\u001b[1;32m----> 1\u001b[1;33m \u001b[0mos\u001b[0m\u001b[1;33m.\u001b[0m\u001b[0mrename\u001b[0m\u001b[1;33m(\u001b[0m\u001b[0mold_name\u001b[0m\u001b[1;33m,\u001b[0m \u001b[0mnew_name\u001b[0m\u001b[1;33m)\u001b[0m\u001b[1;33m\u001b[0m\u001b[1;33m\u001b[0m\u001b[0m\n\u001b[0m",
      "\u001b[1;31mOSError\u001b[0m: [WinError 123] The filename, directory name, or volume label syntax is incorrect: 'C:/Users/LENOVO/Documents/Edvancer_DL_Coding/Project_TMLC/Barkk/Acacia/*' -> 'C:/Users/LENOVO/Documents/Edvancer_DL_Coding/Project_TMLC/Barkk/Acacia/Acacia1.jpg'"
     ]
    }
   ],
   "source": [
    "os.rename(old_name, new_name)"
   ]
  },
  {
   "cell_type": "code",
   "execution_count": 26,
   "id": "358eb732",
   "metadata": {},
   "outputs": [
    {
     "data": {
      "text/plain": [
       "<function nt.rename(src, dst, *, src_dir_fd=None, dst_dir_fd=None)>"
      ]
     },
     "execution_count": 26,
     "metadata": {},
     "output_type": "execute_result"
    }
   ],
   "source": [
    "os.rename"
   ]
  },
  {
   "cell_type": "code",
   "execution_count": 36,
   "id": "fc04ba74",
   "metadata": {},
   "outputs": [
    {
     "data": {
      "text/plain": [
       "'C:/Users/LENOVO/Documents/Edvancer_DL_Coding/Project_TMLC/Barkk/Acacia/IM *'"
      ]
     },
     "execution_count": 36,
     "metadata": {},
     "output_type": "execute_result"
    }
   ],
   "source": [
    "old_name"
   ]
  },
  {
   "cell_type": "code",
   "execution_count": 41,
   "id": "23c52d0b",
   "metadata": {},
   "outputs": [
    {
     "data": {
      "text/plain": [
       "'sales_99.jpg'"
      ]
     },
     "execution_count": 41,
     "metadata": {},
     "output_type": "execute_result"
    }
   ],
   "source": [
    "file_name"
   ]
  },
  {
   "cell_type": "code",
   "execution_count": 40,
   "id": "40c6d1e3",
   "metadata": {},
   "outputs": [
    {
     "name": "stdout",
     "output_type": "stream",
     "text": [
      "All Files Renamed\n",
      "New Names are\n",
      "['sales_1.jpg1.jpg', 'sales_10.jpg2.jpg', 'sales_100.jpg3.jpg', 'sales_101.jpg4.jpg', 'sales_102.jpg5.jpg', 'sales_11.jpg6.jpg', 'sales_12.jpg7.jpg', 'sales_13.jpg8.jpg', 'sales_14.jpg9.jpg', 'sales_15.jpg10.jpg', 'sales_16.jpg11.jpg', 'sales_17.jpg12.jpg', 'sales_18.jpg13.jpg', 'sales_19.jpg14.jpg', 'sales_2.jpg15.jpg', 'sales_20.jpg16.jpg', 'sales_21.jpg17.jpg', 'sales_22.jpg18.jpg', 'sales_23.jpg19.jpg', 'sales_24.jpg20.jpg', 'sales_25.jpg21.jpg', 'sales_26.jpg22.jpg', 'sales_27.jpg23.jpg', 'sales_28.jpg24.jpg', 'sales_29.jpg25.jpg', 'sales_3.jpg26.jpg', 'sales_30.jpg27.jpg', 'sales_31.jpg28.jpg', 'sales_32.jpg29.jpg', 'sales_33.jpg30.jpg', 'sales_34.jpg31.jpg', 'sales_35.jpg32.jpg', 'sales_36.jpg33.jpg', 'sales_37.jpg34.jpg', 'sales_38.jpg35.jpg', 'sales_39.jpg36.jpg', 'sales_4.jpg37.jpg', 'sales_40.jpg38.jpg', 'sales_41.jpg39.jpg', 'sales_42.jpg40.jpg', 'sales_43.jpg41.jpg', 'sales_44.jpg42.jpg', 'sales_45.jpg43.jpg', 'sales_46.jpg44.jpg', 'sales_47.jpg45.jpg', 'sales_48.jpg46.jpg', 'sales_49.jpg47.jpg', 'sales_5.jpg48.jpg', 'sales_50.jpg49.jpg', 'sales_51.jpg50.jpg', 'sales_52.jpg51.jpg', 'sales_53.jpg52.jpg', 'sales_54.jpg53.jpg', 'sales_55.jpg54.jpg', 'sales_56.jpg55.jpg', 'sales_57.jpg56.jpg', 'sales_58.jpg57.jpg', 'sales_59.jpg58.jpg', 'sales_6.jpg59.jpg', 'sales_60.jpg60.jpg', 'sales_61.jpg61.jpg', 'sales_62.jpg62.jpg', 'sales_63.jpg63.jpg', 'sales_64.jpg64.jpg', 'sales_65.jpg65.jpg', 'sales_66.jpg66.jpg', 'sales_67.jpg67.jpg', 'sales_68.jpg68.jpg', 'sales_69.jpg69.jpg', 'sales_7.jpg70.jpg', 'sales_70.jpg71.jpg', 'sales_71.jpg72.jpg', 'sales_72.jpg73.jpg', 'sales_73.jpg74.jpg', 'sales_74.jpg75.jpg', 'sales_75.jpg76.jpg', 'sales_76.jpg77.jpg', 'sales_77.jpg78.jpg', 'sales_78.jpg79.jpg', 'sales_79.jpg80.jpg', 'sales_8.jpg81.jpg', 'sales_80.jpg82.jpg', 'sales_81.jpg83.jpg', 'sales_82.jpg84.jpg', 'sales_83.jpg85.jpg', 'sales_84.jpg86.jpg', 'sales_85.jpg87.jpg', 'sales_86.jpg88.jpg', 'sales_87.jpg89.jpg', 'sales_88.jpg90.jpg', 'sales_89.jpg91.jpg', 'sales_9.jpg92.jpg', 'sales_90.jpg93.jpg', 'sales_91.jpg94.jpg', 'sales_92.jpg95.jpg', 'sales_93.jpg96.jpg', 'sales_94.jpg97.jpg', 'sales_95.jpg98.jpg', 'sales_96.jpg99.jpg', 'sales_97.jpg100.jpg', 'sales_98.jpg101.jpg', 'sales_99.jpg102.jpg']\n"
     ]
    }
   ],
   "source": [
    "import os\n",
    "\n",
    "sub_folder = r'C:/Users/LENOVO/Documents/Edvancer_DL_Coding/Project_TMLC/Barkk/Barringtonia acutangula/'\n",
    "count = 1\n",
    "# count increase by 1 in each iteration\n",
    "# iterate all files from a directory\n",
    "for filenames in os.listdir(folder):\n",
    "    for file_name in os.listdir(folder):\n",
    "    # Construct old file name\n",
    "    source = folder + file_name\n",
    "\n",
    "    # Adding the count to the new file name and extension\n",
    "    destination = folder + file_name + str(count) + \".jpg\"\n",
    "\n",
    "    # Renaming the file\n",
    "    os.rename(source, destination)\n",
    "    count += 1\n",
    "print('All Files Renamed')\n",
    "\n",
    "print('New Names are')\n",
    "# verify the result\n",
    "res = os.listdir(folder)\n",
    "print(res)"
   ]
  },
  {
   "cell_type": "code",
   "execution_count": null,
   "id": "d02c2019",
   "metadata": {},
   "outputs": [],
   "source": []
  },
  {
   "cell_type": "code",
   "execution_count": null,
   "id": "3726e253",
   "metadata": {},
   "outputs": [],
   "source": []
  },
  {
   "cell_type": "code",
   "execution_count": null,
   "id": "18cd1179",
   "metadata": {},
   "outputs": [],
   "source": []
  },
  {
   "cell_type": "code",
   "execution_count": null,
   "id": "b99f9220",
   "metadata": {},
   "outputs": [],
   "source": []
  }
 ],
 "metadata": {
  "kernelspec": {
   "display_name": "Python 3 (ipykernel)",
   "language": "python",
   "name": "python3"
  },
  "language_info": {
   "codemirror_mode": {
    "name": "ipython",
    "version": 3
   },
   "file_extension": ".py",
   "mimetype": "text/x-python",
   "name": "python",
   "nbconvert_exporter": "python",
   "pygments_lexer": "ipython3",
   "version": "3.9.7"
  },
  "varInspector": {
   "cols": {
    "lenName": 16,
    "lenType": 16,
    "lenVar": 40
   },
   "kernels_config": {
    "python": {
     "delete_cmd_postfix": "",
     "delete_cmd_prefix": "del ",
     "library": "var_list.py",
     "varRefreshCmd": "print(var_dic_list())"
    },
    "r": {
     "delete_cmd_postfix": ") ",
     "delete_cmd_prefix": "rm(",
     "library": "var_list.r",
     "varRefreshCmd": "cat(var_dic_list()) "
    }
   },
   "types_to_exclude": [
    "module",
    "function",
    "builtin_function_or_method",
    "instance",
    "_Feature"
   ],
   "window_display": false
  }
 },
 "nbformat": 4,
 "nbformat_minor": 5
}
