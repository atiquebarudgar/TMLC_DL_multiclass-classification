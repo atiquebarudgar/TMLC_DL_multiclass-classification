{
 "cells": [
  {
   "cell_type": "markdown",
   "id": "041ed288",
   "metadata": {},
   "source": [
    "## Loading necessary files"
   ]
  },
  {
   "cell_type": "code",
   "execution_count": 229,
   "id": "24135e77",
   "metadata": {},
   "outputs": [],
   "source": [
    "import numpy as np\n",
    "import pandas as pd\n",
    "import tensorflow as tf\n",
    "from keras.preprocessing.image import ImageDataGenerator \n",
    "from tensorflow.keras.preprocessing.image import load_img\n",
    "from keras.utils import to_categorical \n",
    "from sklearn.model_selection import train_test_split\n",
    "import matplotlib.pyplot as plt\n",
    "import random\n",
    "import os"
   ]
  },
  {
   "cell_type": "code",
   "execution_count": null,
   "id": "3517f0db",
   "metadata": {},
   "outputs": [],
   "source": [
    "###################### Explanation of above cell##############################\n",
    "# Tensorflow and Keras are famous open source Deep Learning library.\n",
    "# keras.preprocessing.image-> used to load, prepare and process images.\n",
    "# keras ImageDataGenerator-> It augment our images in real time.\n",
    "# tensorflow.keras.preprocessing.image import load_img -> loads image into Python Imaging Library format.\n",
    "# keras.utils import to_categorical -> Converts vectors containing integer into binary class or categories.\n",
    "# import os -> It helps Python to interact with operating system"
   ]
  },
  {
   "cell_type": "markdown",
   "id": "5371a9fb",
   "metadata": {},
   "source": [
    "## Renaming images of each folder of bark type"
   ]
  },
  {
   "cell_type": "code",
   "execution_count": 257,
   "id": "21de50e8",
   "metadata": {},
   "outputs": [],
   "source": [
    "x=0"
   ]
  },
  {
   "cell_type": "code",
   "execution_count": 258,
   "id": "a4ae7701",
   "metadata": {
    "scrolled": true
   },
   "outputs": [
    {
     "data": {
      "text/plain": [
       "'Acacia'"
      ]
     },
     "execution_count": 258,
     "metadata": {},
     "output_type": "execute_result"
    }
   ],
   "source": [
    "os.listdir(current_folder)[x]"
   ]
  },
  {
   "cell_type": "code",
   "execution_count": 231,
   "id": "1433a124",
   "metadata": {},
   "outputs": [],
   "source": [
    "# current_folder-> Folder in which data is downloaded.\n",
    "current_folder = r'C:/Users/LENOVO/Documents/Edvancer_DL_Coding/Project_TMLC/BarkTexture Data/' \n",
    "\n",
    "# Bark Texture dataset contains 50 categories, each in different folders. Each categoriy(folder) has number of texture images.\n",
    "# Here we plan to combine all images into one folder, before that if we rename all images of all categories \n",
    "#.. with their respective category it will be easy to segregate and recognise image easily\n",
    "\n",
    "# Data folder(OR current_folder) >>> Category(Total-50) >>> images\n",
    "\n",
    "x=0 \n",
    "\n",
    "# os.listdir(foldername) -> It will list all directory under given folder name.\n",
    "for filenames in os.listdir(current_folder): # Taking each filename/directory from list using for loop iteration.\n",
    "    count = 1\n",
    "    val= os.listdir(current_folder)[x] # val is the name of each category, x will help in taking all one by one. \n",
    "    #val = val.replace(\" \", \"\")\n",
    "    path = os.path.join(current_folder, val) # Joining the path of data folder with the path of  category folder.\n",
    "    for file_name in os.listdir(path): # Iterating inside each category to collect all images present.\n",
    "        \n",
    "        source = path+'/'+file_name # Adding image name to category folder path, so that we can get to each image path.\n",
    "        \n",
    "        val2 = val.replace(\" \", \"\") # Removing space between category name if present.\n",
    "        destination = path+'/'+val2+str(count)+\".jpg\" # Defining the path same as of source but with new name of image. \n",
    "        \n",
    "        # Renaming the file\n",
    "        os.rename(source, destination) # renaming source path with destination path, which in turn will also rename the image.\n",
    "        count += 1 # increasing count to reach to every image inside  category\n",
    "    x=x+1 # increasing count to reach to every category.\n",
    "    \n",
    "    \n",
    "###### Result of this cell ############\n",
    "# All images in respective category will be renamed by category name itself with count as suffix.\n",
    "# Acacia category images will be renamed such as Acacia1, Acicia2, Acacia3...Acacia102 and Cedrus category images will be ...\n",
    "# ... renamed as Cedrus1, Cedrus2...and Cedrus93 and thus same for all categories.\n"
   ]
  },
  {
   "cell_type": "markdown",
   "id": "df84889f",
   "metadata": {},
   "source": [
    "## Combining all data in one folder"
   ]
  },
  {
   "cell_type": "code",
   "execution_count": 232,
   "id": "482a7f22",
   "metadata": {},
   "outputs": [],
   "source": [
    "import glob # Helps in find files path which are matching\n",
    "import shutil # Copies source file in destination file.\n",
    "import os\n",
    "\n",
    "source_dir = \"C:/Users/LENOVO/Documents/Edvancer_DL_Coding/Project_TMLC/BarkTexture Data/*\" \n",
    "dest_dir = \"C:/Users/LENOVO/Documents/Edvancer_DL_Coding/Project_TMLC/Bark/Data_All/\"  \n",
    "\n",
    "\n",
    "for jpgfile in glob.iglob(os.path.join(source_dir, \"*.jpg\")): # os.path.join will join the path of source directory with \n",
    "    shutil.copy(jpgfile, dest_dir)"
   ]
  },
  {
   "cell_type": "code",
   "execution_count": null,
   "id": "60d4a233",
   "metadata": {},
   "outputs": [],
   "source": [
    "############## Explanation of above cell####################\n",
    "# source_dir -> Path of Directories from which images will be taken.\n",
    "# dest_dir -> Directory in which all images will be pasted\n",
    "\n",
    "# os.path.join -> It will join the path of source directory with suffix .jpg because our all images as suffix .jpg\n",
    "# glob.iglob(os.path.join(source_dir, \"*.jpg\") -> It will match path of all images beacuse all images have suffix .jpg\n",
    "# jpgfile in glob.iglob(os.path.join(source_dir, \"*.jpg\")) -> It will display path of individual image such as (...BarkTexture Data\\Acacia\\Acacia1.jpg)\n",
    "# shutil.copy(jpgfile, dest_dir) -> It will copy each image (path taken from jpgfile) into destination directory."
   ]
  },
  {
   "cell_type": "markdown",
   "id": "59765a58",
   "metadata": {},
   "source": [
    "## Defining dataframe and adding category column"
   ]
  },
  {
   "cell_type": "code",
   "execution_count": 268,
   "id": "bcf567a6",
   "metadata": {},
   "outputs": [],
   "source": [
    "# Although each image has name according to its category but we will make category iagainst each image in dataframe.\n",
    "# First we will list all images and saving it into variable 'barkfiles'.\n",
    "# In foor loop we will pick each image, and from its name- we will decide its category because...\n",
    "# ..because its name is according to category.\n",
    "# We will put category from name by removing characters and .jpg suffix.\n",
    "\n",
    "\n",
    "barkfiles= os.listdir('C:/Users/LENOVO/Documents/Edvancer_DL_Coding/Project_TMLC/Bark/Data_All/')\n",
    "\n",
    "\n",
    "categories = []\n",
    "for eachfile in barkfiles:\n",
    "    eachfile=eachfile.translate({ord(i): None for i in '0123456789'}) # Removing characters from the name of images\n",
    "    category = eachfile.split('.')[0] # Splitting images name into two parts and taking first part as category.\n",
    "    \n",
    "    categories.append(category) \n",
    "        \n",
    "df = pd.DataFrame({\n",
    "    'filename': barkfiles,  \n",
    "    'category': categories,    \n",
    "})\n",
    "\n",
    "########## Outcome of this cell ##################\n",
    "# All images is feed into dataframe form with category column."
   ]
  },
  {
   "cell_type": "markdown",
   "id": "ca0c8723",
   "metadata": {},
   "source": [
    "## Sample view"
   ]
  },
  {
   "cell_type": "code",
   "execution_count": 244,
   "id": "e2412f68",
   "metadata": {},
   "outputs": [
    {
     "data": {
      "text/plain": [
       "<matplotlib.image.AxesImage at 0x1f6b27c9ca0>"
      ]
     },
     "execution_count": 244,
     "metadata": {},
     "output_type": "execute_result"
    },
    {
     "data": {
      "image/png": "[encoded data removed]",
      "text/plain": [
       "<Figure size 432x288 with 1 Axes>"
      ]
     },
     "metadata": {
      "needs_background": "light"
     },
     "output_type": "display_data"
    }
   ],
   "source": [
    "sample = random.choice(barkfiles) # randomly picking single image from barkfiles data.\n",
    "\n",
    "image = load_img('C:/Users/LENOVO/Documents/Edvancer_DL_Coding/Project_TMLC/Bark/Data_All/'+sample) # Loading image by giving path of randomly selected image in above command\n",
    "plt.imshow(image) # Showing or opening image."
   ]
  },
  {
   "cell_type": "markdown",
   "id": "45eadb0b",
   "metadata": {},
   "source": [
    "## Defining Architecture"
   ]
  },
  {
   "cell_type": "code",
   "execution_count": null,
   "id": "2786bbf7",
   "metadata": {},
   "outputs": [],
   "source": [
    "from keras.models import "
   ]
  },
  {
   "cell_type": "code",
   "execution_count": 245,
   "id": "71f1fab7",
   "metadata": {},
   "outputs": [
    {
     "name": "stdout",
     "output_type": "stream",
     "text": [
      "Model: \"sequential_5\"\n",
      "_________________________________________________________________\n",
      " Layer (type)                Output Shape              Param #   \n",
      "=================================================================\n",
      " conv2d_10 (Conv2D)          (None, 148, 148, 32)      896       \n",
      "                                                                 \n",
      " max_pooling2d_10 (MaxPoolin  (None, 74, 74, 32)       0         \n",
      " g2D)                                                            \n",
      "                                                                 \n",
      " dropout_15 (Dropout)        (None, 74, 74, 32)        0         \n",
      "                                                                 \n",
      " conv2d_11 (Conv2D)          (None, 72, 72, 64)        18496     \n",
      "                                                                 \n",
      " max_pooling2d_11 (MaxPoolin  (None, 36, 36, 64)       0         \n",
      " g2D)                                                            \n",
      "                                                                 \n",
      " dropout_16 (Dropout)        (None, 36, 36, 64)        0         \n",
      "                                                                 \n",
      " flatten_5 (Flatten)         (None, 82944)             0         \n",
      "                                                                 \n",
      " dense_10 (Dense)            (None, 96)                7962720   \n",
      "                                                                 \n",
      " dropout_17 (Dropout)        (None, 96)                0         \n",
      "                                                                 \n",
      " dense_11 (Dense)            (None, 4)                 388       \n",
      "                                                                 \n",
      "=================================================================\n",
      "Total params: 7,982,500\n",
      "Trainable params: 7,982,500\n",
      "Non-trainable params: 0\n",
      "_________________________________________________________________\n"
     ]
    }
   ],
   "source": [
    "from keras.models import Sequential \n",
    "from keras.layers import Conv2D, MaxPooling2D, Dropout, Flatten, Dense, Activation, BatchNormalization\n",
    "\n",
    "model = Sequential() # Othermodel are Functional\n",
    "# Sequential model arranges the layer in sequential order and data flows from each layer to anaother till  the output layer.\n",
    "\n",
    "# Adding convolution layer\n",
    "# Convolution layer extract various features from the input images.\n",
    "#(32,(3,3))-> 32 features will be exctracted, 3x3 convo window which will iterate over image; \n",
    "# input_shape=(150,150, 3)-> input_shape of image= Width X Height =150 X 150; [3=rgb value, 1=mono colour scale]\n",
    "# Convolution layer will iterate over image, and will return convolued feature matrix.\n",
    "model.add(Conv2D(32, (3, 3), input_shape=(150,150, 3),activation='relu' )) \n",
    "\n",
    "# Adding pooling layer- \n",
    "# pool_size=(2, 2)-> 2 X 2 =size of  pooling window, which will iterate over convolued feature matrix.\n",
    "# It will downside convolued feature matrix, but retain the convolued feature.\n",
    "# There are different ways of retaining features, such as maximum or average. Here we used, maximum; hence MaxPooling layer.\n",
    "# Now, 3x3 convolued feature matrix will be converted to now 2x2 size.\n",
    "model.add(MaxPooling2D(pool_size=(2, 2)))\n",
    "\n",
    "# Adding Dropout layer \n",
    "# It will mainly reduces the complexity of neural network(NN). It reduces the no. of nodes in NN.\n",
    "# Dropping results in improving the performance of model, and reduces overfitting also.\n",
    "model.add(Dropout(0.25)) # rate=0.25\n",
    "\n",
    "# Adding another convolution layer with more no of features to be extracted (64).\n",
    "# Multiple convolution layer to get better abstract representation.\n",
    "# Filetrs (kernesl) that will operate on first layer of convolution extracted image, will give now better representation of image.\n",
    "model.add(Conv2D(64, (3, 3), activation='relu'))\n",
    "model.add(MaxPooling2D(pool_size=(2, 2)))\n",
    "model.add(Dropout(0.25)) # Adding again dropout layer to nullify neurons from preceeding input; rate=0.25.\n",
    "\n",
    "# Adding flatten layer\n",
    "# Flatten the images 2D tensor ( or pooled features) into 1D tensor (or continous vector).\n",
    "# It is necessary to flatten because it is fed as input to fully connected layer/Dense layer.\n",
    "model.add(Flatten())\n",
    "\n",
    "\n",
    "# Dense layer represents the nodes in the fully connected layer.\n",
    "# why it is called Dense, because it is deeply connected with its preceeding layers.\n",
    "# This layer receives informtion from every neuron of precceding layers.\n",
    "model.add(Dense(96, activation='relu')) # 96=32+64, adding all previous convoltion layer.\n",
    "\n",
    "# Adding another dropout layer\n",
    "# we will apply again to nullify some of the neurons/features.\n",
    "model.add(Dropout(0.5)) # rate=0.5\n",
    "\n",
    "# Adding final dense layer- which is equal to number of outputs which we are going to predict.\n",
    "model.add(Dense(50, activation='softmax')) # 50; because we have fifty categories of bark textures.\n",
    "\n",
    "# Now we will compile our mode\n",
    "# loss = categorical instead of binary since it is multi class classification\n",
    "# Optimizer= Adam or SGD.\n",
    "# Optimizer helps in reducing the overall loss and improve accuracy.\n",
    "model.compile(loss='categorical_crossentropy', metrics=['accuracy'], optimizer='Adam', )\n",
    "\n",
    "# Adam optimizer is one of the best, due to fewer parameter requirement for tuning.\n",
    "\n",
    "# now we are going to summarize our model.\n",
    "model.summary()\n",
    "\n",
    "# Total params= total number features the NN will extract\n",
    "# Output Shape can be calculated using formulae"
   ]
  },
  {
   "cell_type": "markdown",
   "id": "fad51fc1",
   "metadata": {},
   "source": [
    "## Adding call backs"
   ]
  },
  {
   "cell_type": "code",
   "execution_count": 246,
   "id": "7d60b02c",
   "metadata": {},
   "outputs": [],
   "source": [
    "# Call back is a function of Keras\n",
    "# Early stopping will stop our model when it is not improving.\n",
    "# learning_rate_reduction- it will stop learning rate to improve on the matrix which we are specifying,...\n",
    "# ...i.e. validation loss not improving, so that it will reduce in next epoch\n",
    "\n",
    "from keras.callbacks import EarlyStopping, ReduceLROnPlateau\n",
    "\n",
    "ES = EarlyStopping(patience=10) # earlystop\n",
    "LRR = ReduceLROnPlateau(monitor='val_loss', patience=5, verbose=1, factor=0.5, min_lr=0.00001) # Learning Rate Reduction\n",
    "CB = [earlystop, learning_rate_reduction] # callbacks"
   ]
  },
  {
   "cell_type": "markdown",
   "id": "99d5d919",
   "metadata": {},
   "source": [
    "## Dividing Validation data"
   ]
  },
  {
   "cell_type": "code",
   "execution_count": 253,
   "id": "c40ede86",
   "metadata": {},
   "outputs": [
    {
     "name": "stdout",
     "output_type": "stream",
     "text": [
      "Barringtoniaacutangula    89\n",
      "Acacia                    78\n",
      "Cedrus                    72\n",
      "Citrusgrandis             65\n",
      "Name: category, dtype: int64\n",
      "\n",
      " Total train images:  304\n",
      "Acacia                    24\n",
      "Cedrus                    21\n",
      "Citrusgrandis             19\n",
      "Barringtoniaacutangula    13\n",
      "Name: category, dtype: int64\n",
      "\n",
      " Total validate images:  77\n"
     ]
    }
   ],
   "source": [
    "# Here both data is in same folder otherwise you can create (and extract) from two different folder for train and validation data images.\n",
    "# using train test split for train and validation data, because data is in same folder.\n",
    "train_df, validate_df = train_test_split(df, test_size=0.20, random_state=0) # random_state=0 to prevent random splitting.\n",
    "# Here train and validation files got split and images are different from each other.\n",
    "\n",
    "# Validation data is created so that performance can be improved of the model.\n",
    "# Model will try to validate and learn before running on actual test data.\n",
    "\n",
    "# Lets see total 'TRAIN' files and in each category\n",
    "train_df = train_df.reset_index(drop=True)\n",
    "#train_df['category'].value_counts().plot.bar()\n",
    "\n",
    "print(train_df['category'].value_counts())\n",
    "print(\"\\n Total train images: \", train_df.shape[0])\n",
    "total_train = train_df.shape[0]\n",
    "\n",
    "# Lets see total 'VALIDATE' files and in each category\n",
    "\n",
    "validate_df = validate_df.reset_index(drop=True)\n",
    "#validate_df['category'].value_counts().plot.bar()\n",
    "\n",
    "print(validate_df['category'].value_counts())\n",
    "print(\"\\n Total validate images: \", validate_df.shape[0])\n",
    "total_validate = validate_df.shape[0] "
   ]
  },
  {
   "cell_type": "markdown",
   "id": "71ec17fc",
   "metadata": {},
   "source": [
    "## Data Augmentation"
   ]
  },
  {
   "cell_type": "code",
   "execution_count": null,
   "id": "edaeac2c",
   "metadata": {},
   "outputs": [],
   "source": [
    "# Data augmentation is trick to increase the number of data.\n",
    "# It genrates the copy of images by slightly modifying it, like changing orientation by some degree or flipping it."
   ]
  },
  {
   "cell_type": "code",
   "execution_count": 251,
   "id": "d56e1bff",
   "metadata": {},
   "outputs": [
    {
     "name": "stdout",
     "output_type": "stream",
     "text": [
      "Found 304 validated image filenames belonging to 4 classes.\n",
      "Found 77 validated image filenames belonging to 4 classes.\n"
     ]
    }
   ],
   "source": [
    "Tr_datagen = ImageDataGenerator(rotation_range=15, rescale=1./255, shear_range=0.1, zoom_range=0.2,\n",
    "                                   width_shift_range=0.1, height_shift_range=0.1,horizontal_flip=True)\n",
    "\n",
    "# rotation_range-> It will rotate the image in right and left by the input degree.\n",
    "#shear_range-> It will shear the one part of image. Base of the image sheared.\n",
    "# zoom_range-> Zoom in or out of image\n",
    "# width_shift_range -> will shift the image towards right or left.\n",
    "# horizontal_flip -> Reversing the entire rows and columns.\n",
    "\n",
    "V_datagen = ImageDataGenerator(rescale=1./255) # No augmentation on validation data only skewing.\n",
    "\n",
    "TRgen = Tr_datagen.flow_from_dataframe(\n",
    "    train_df,  \"C:/Users/LENOVO/Documents/Edvancer_DL_Coding/Project_TMLC/Bark/Data_All/\", \n",
    "    x_col='filename',  y_col='category',target_size=(150,150), batch_size=32,class_mode='categorical' )\n",
    "\n",
    "Vgen = V_datagen.flow_from_dataframe(\n",
    "    validate_df, \"C:/Users/LENOVO/Documents/Edvancer_DL_Coding/Project_TMLC/Bark/Data_All/\",\n",
    "    x_col='filename', y_col='category', target_size=(150,150), batch_size=32,class_mode='categorical')"
   ]
  },
  {
   "cell_type": "markdown",
   "id": "e510fa51",
   "metadata": {},
   "source": [
    "## Model Training"
   ]
  },
  {
   "cell_type": "code",
   "execution_count": 254,
   "id": "d910ecef",
   "metadata": {},
   "outputs": [
    {
     "name": "stderr",
     "output_type": "stream",
     "text": [
      "C:\\Users\\LENOVO\\AppData\\Local\\Temp/ipykernel_7500/2582393210.py:3: UserWarning: `Model.fit_generator` is deprecated and will be removed in a future version. Please use `Model.fit`, which supports generators.\n",
      "  Train = model.fit_generator(TRgen, epochs=50,validation_data=Vgen,\n"
     ]
    },
    {
     "name": "stdout",
     "output_type": "stream",
     "text": [
      "Epoch 1/50\n",
      "6/6 [==============================] - 10s 2s/step - loss: 5.8247 - accuracy: 0.2589 - val_loss: 1.4057 - val_accuracy: 0.2500 - lr: 0.0010\n",
      "Epoch 2/50\n",
      "6/6 [==============================] - 8s 1s/step - loss: 1.4287 - accuracy: 0.2679 - val_loss: 1.3861 - val_accuracy: 0.2500 - lr: 0.0010\n",
      "Epoch 3/50\n",
      "6/6 [==============================] - 7s 1s/step - loss: 1.3705 - accuracy: 0.3616 - val_loss: 1.3729 - val_accuracy: 0.2812 - lr: 0.0010\n",
      "Epoch 4/50\n",
      "6/6 [==============================] - 8s 1s/step - loss: 1.3713 - accuracy: 0.3125 - val_loss: 1.3713 - val_accuracy: 0.6250 - lr: 0.0010\n",
      "Epoch 5/50\n",
      "6/6 [==============================] - 7s 1s/step - loss: 1.3313 - accuracy: 0.3990 - val_loss: 1.3392 - val_accuracy: 0.4531 - lr: 0.0010\n",
      "Epoch 6/50\n",
      "6/6 [==============================] - 7s 1s/step - loss: 1.2602 - accuracy: 0.4732 - val_loss: 1.2201 - val_accuracy: 0.4219 - lr: 0.0010\n",
      "Epoch 7/50\n",
      "6/6 [==============================] - 7s 1s/step - loss: 1.1892 - accuracy: 0.4808 - val_loss: 1.1211 - val_accuracy: 0.5625 - lr: 0.0010\n",
      "Epoch 8/50\n",
      "6/6 [==============================] - 7s 1s/step - loss: 1.0928 - accuracy: 0.5223 - val_loss: 0.9907 - val_accuracy: 0.4688 - lr: 0.0010\n",
      "Epoch 9/50\n",
      "6/6 [==============================] - 7s 1s/step - loss: 0.9899 - accuracy: 0.5481 - val_loss: 0.9569 - val_accuracy: 0.4531 - lr: 0.0010\n",
      "Epoch 10/50\n",
      "6/6 [==============================] - 7s 1s/step - loss: 0.9960 - accuracy: 0.5312 - val_loss: 0.8212 - val_accuracy: 0.7344 - lr: 0.0010\n",
      "Epoch 11/50\n",
      "6/6 [==============================] - 7s 1s/step - loss: 0.8690 - accuracy: 0.6490 - val_loss: 0.7519 - val_accuracy: 0.6719 - lr: 0.0010\n",
      "Epoch 12/50\n",
      "6/6 [==============================] - 7s 1s/step - loss: 0.8473 - accuracy: 0.6429 - val_loss: 0.6515 - val_accuracy: 0.8125 - lr: 0.0010\n",
      "Epoch 13/50\n",
      "6/6 [==============================] - 7s 1s/step - loss: 0.7653 - accuracy: 0.6875 - val_loss: 0.8085 - val_accuracy: 0.6719 - lr: 0.0010\n",
      "Epoch 14/50\n",
      "6/6 [==============================] - 7s 1s/step - loss: 0.7651 - accuracy: 0.6161 - val_loss: 0.6182 - val_accuracy: 0.8906 - lr: 0.0010\n",
      "Epoch 15/50\n",
      "6/6 [==============================] - 7s 1s/step - loss: 0.6915 - accuracy: 0.7452 - val_loss: 0.5967 - val_accuracy: 0.8125 - lr: 0.0010\n",
      "Epoch 16/50\n",
      "6/6 [==============================] - 7s 1s/step - loss: 0.6277 - accuracy: 0.7644 - val_loss: 0.6316 - val_accuracy: 0.7656 - lr: 0.0010\n",
      "Epoch 17/50\n",
      "6/6 [==============================] - 8s 1s/step - loss: 0.5727 - accuracy: 0.7723 - val_loss: 0.7633 - val_accuracy: 0.6562 - lr: 0.0010\n",
      "Epoch 18/50\n",
      "6/6 [==============================] - 7s 1s/step - loss: 0.6309 - accuracy: 0.7404 - val_loss: 0.5266 - val_accuracy: 0.7812 - lr: 0.0010\n",
      "Epoch 19/50\n",
      "6/6 [==============================] - 7s 1s/step - loss: 0.6665 - accuracy: 0.7067 - val_loss: 0.5940 - val_accuracy: 0.7344 - lr: 0.0010\n",
      "Epoch 20/50\n",
      "6/6 [==============================] - 7s 1s/step - loss: 0.5890 - accuracy: 0.7452 - val_loss: 0.7513 - val_accuracy: 0.7344 - lr: 0.0010\n",
      "Epoch 21/50\n",
      "6/6 [==============================] - 7s 1s/step - loss: 0.5898 - accuracy: 0.7981 - val_loss: 0.6553 - val_accuracy: 0.7031 - lr: 0.0010\n",
      "Epoch 22/50\n",
      "6/6 [==============================] - 7s 1s/step - loss: 0.5795 - accuracy: 0.7548 - val_loss: 0.4758 - val_accuracy: 0.7656 - lr: 0.0010\n",
      "Epoch 23/50\n",
      "6/6 [==============================] - 7s 1s/step - loss: 0.6448 - accuracy: 0.7321 - val_loss: 0.5359 - val_accuracy: 0.7656 - lr: 0.0010\n",
      "Epoch 24/50\n",
      "6/6 [==============================] - 7s 1s/step - loss: 0.5750 - accuracy: 0.8077 - val_loss: 0.4866 - val_accuracy: 0.8438 - lr: 0.0010\n",
      "Epoch 25/50\n",
      "6/6 [==============================] - 7s 1s/step - loss: 0.5881 - accuracy: 0.7644 - val_loss: 0.3484 - val_accuracy: 0.8594 - lr: 0.0010\n",
      "Epoch 26/50\n",
      "6/6 [==============================] - 7s 1s/step - loss: 0.5951 - accuracy: 0.7692 - val_loss: 0.4046 - val_accuracy: 0.8906 - lr: 0.0010\n",
      "Epoch 27/50\n",
      "6/6 [==============================] - 7s 1s/step - loss: 0.4697 - accuracy: 0.8269 - val_loss: 0.5541 - val_accuracy: 0.7812 - lr: 0.0010\n",
      "Epoch 28/50\n",
      "6/6 [==============================] - 7s 1s/step - loss: 0.4626 - accuracy: 0.8606 - val_loss: 0.6198 - val_accuracy: 0.7500 - lr: 0.0010\n",
      "Epoch 29/50\n",
      "6/6 [==============================] - 7s 1s/step - loss: 0.5035 - accuracy: 0.8125 - val_loss: 0.4165 - val_accuracy: 0.8438 - lr: 0.0010\n",
      "Epoch 30/50\n",
      "7/6 [==================================] - ETA: 0s - loss: 0.4787 - accuracy: 0.8080\n",
      "Epoch 30: ReduceLROnPlateau reducing learning rate to 0.0005000000237487257.\n",
      "6/6 [==============================] - 8s 1s/step - loss: 0.4787 - accuracy: 0.8080 - val_loss: 0.3887 - val_accuracy: 0.8906 - lr: 0.0010\n",
      "Epoch 31/50\n",
      "6/6 [==============================] - 8s 1s/step - loss: 0.5144 - accuracy: 0.8317 - val_loss: 0.5264 - val_accuracy: 0.7812 - lr: 5.0000e-04\n",
      "Epoch 32/50\n",
      "6/6 [==============================] - 7s 1s/step - loss: 0.4158 - accuracy: 0.8606 - val_loss: 0.2838 - val_accuracy: 0.8906 - lr: 5.0000e-04\n",
      "Epoch 33/50\n",
      "6/6 [==============================] - 8s 1s/step - loss: 0.3503 - accuracy: 0.8795 - val_loss: 0.4041 - val_accuracy: 0.8438 - lr: 5.0000e-04\n",
      "Epoch 34/50\n",
      "6/6 [==============================] - 7s 1s/step - loss: 0.3742 - accuracy: 0.8750 - val_loss: 0.2508 - val_accuracy: 0.9062 - lr: 5.0000e-04\n",
      "Epoch 35/50\n",
      "6/6 [==============================] - 7s 1s/step - loss: 0.3899 - accuracy: 0.8510 - val_loss: 0.4030 - val_accuracy: 0.8125 - lr: 5.0000e-04\n",
      "Epoch 36/50\n",
      "6/6 [==============================] - 7s 1s/step - loss: 0.3547 - accuracy: 0.8558 - val_loss: 0.2479 - val_accuracy: 0.9219 - lr: 5.0000e-04\n",
      "Epoch 37/50\n",
      "6/6 [==============================] - 7s 1s/step - loss: 0.4242 - accuracy: 0.8798 - val_loss: 0.3891 - val_accuracy: 0.8750 - lr: 5.0000e-04\n",
      "Epoch 38/50\n",
      "6/6 [==============================] - 7s 1s/step - loss: 0.3162 - accuracy: 0.8846 - val_loss: 0.3258 - val_accuracy: 0.8906 - lr: 5.0000e-04\n",
      "Epoch 39/50\n",
      "6/6 [==============================] - 8s 1s/step - loss: 0.3399 - accuracy: 0.9152 - val_loss: 0.2702 - val_accuracy: 0.9219 - lr: 5.0000e-04\n",
      "Epoch 40/50\n",
      "6/6 [==============================] - 8s 1s/step - loss: 0.3315 - accuracy: 0.9018 - val_loss: 0.2771 - val_accuracy: 0.8594 - lr: 5.0000e-04\n",
      "Epoch 41/50\n",
      "7/6 [==================================] - ETA: 0s - loss: 0.2845 - accuracy: 0.8973\n",
      "Epoch 41: ReduceLROnPlateau reducing learning rate to 0.0002500000118743628.\n",
      "6/6 [==============================] - 8s 1s/step - loss: 0.2845 - accuracy: 0.8973 - val_loss: 0.2867 - val_accuracy: 0.8906 - lr: 5.0000e-04\n",
      "Epoch 42/50\n",
      "6/6 [==============================] - 9s 1s/step - loss: 0.3583 - accuracy: 0.8929 - val_loss: 0.2220 - val_accuracy: 0.9062 - lr: 2.5000e-04\n",
      "Epoch 43/50\n",
      "6/6 [==============================] - 8s 1s/step - loss: 0.2980 - accuracy: 0.9183 - val_loss: 0.3601 - val_accuracy: 0.8750 - lr: 2.5000e-04\n",
      "Epoch 44/50\n",
      "6/6 [==============================] - 8s 1s/step - loss: 0.3504 - accuracy: 0.8795 - val_loss: 0.2435 - val_accuracy: 0.9375 - lr: 2.5000e-04\n",
      "Epoch 45/50\n",
      "6/6 [==============================] - 8s 1s/step - loss: 0.2730 - accuracy: 0.9231 - val_loss: 0.2223 - val_accuracy: 0.9219 - lr: 2.5000e-04\n",
      "Epoch 46/50\n",
      "6/6 [==============================] - 8s 1s/step - loss: 0.3030 - accuracy: 0.8942 - val_loss: 0.3109 - val_accuracy: 0.8750 - lr: 2.5000e-04\n",
      "Epoch 47/50\n",
      "7/6 [==================================] - ETA: 0s - loss: 0.3015 - accuracy: 0.9038\n",
      "Epoch 47: ReduceLROnPlateau reducing learning rate to 0.0001250000059371814.\n",
      "6/6 [==============================] - 8s 1s/step - loss: 0.3015 - accuracy: 0.9038 - val_loss: 0.3245 - val_accuracy: 0.8750 - lr: 2.5000e-04\n",
      "Epoch 48/50\n",
      "6/6 [==============================] - 7s 1s/step - loss: 0.2718 - accuracy: 0.8990 - val_loss: 0.2391 - val_accuracy: 0.9219 - lr: 1.2500e-04\n",
      "Epoch 49/50\n",
      "6/6 [==============================] - 8s 1s/step - loss: 0.3053 - accuracy: 0.9038 - val_loss: 0.2273 - val_accuracy: 0.9219 - lr: 1.2500e-04\n",
      "Epoch 50/50\n",
      "6/6 [==============================] - 8s 1s/step - loss: 0.2641 - accuracy: 0.9286 - val_loss: 0.2151 - val_accuracy: 0.9219 - lr: 1.2500e-04\n"
     ]
    }
   ],
   "source": [
    "batch_size=50 # larger batch size will give you shorter training time.\n",
    "\n",
    "Train = model.fit_generator(TRgen, epochs=50,validation_data=Vgen,\n",
    "            validation_steps=total_validate/batch_size,steps_per_epoch=total_train/batch_size,callbacks=callbacks)"
   ]
  },
  {
   "cell_type": "code",
   "execution_count": null,
   "id": "b78b1feb",
   "metadata": {},
   "outputs": [],
   "source": []
  },
  {
   "cell_type": "code",
   "execution_count": null,
   "id": "c1094420",
   "metadata": {},
   "outputs": [],
   "source": []
  },
  {
   "cell_type": "code",
   "execution_count": null,
   "id": "c5f1d2ec",
   "metadata": {},
   "outputs": [],
   "source": []
  },
  {
   "cell_type": "code",
   "execution_count": null,
   "id": "a06d96c4",
   "metadata": {},
   "outputs": [],
   "source": []
  },
  {
   "cell_type": "code",
   "execution_count": null,
   "id": "c8a7601e",
   "metadata": {},
   "outputs": [],
   "source": []
  },
  {
   "cell_type": "code",
   "execution_count": null,
   "id": "f1fe07f7",
   "metadata": {},
   "outputs": [],
   "source": []
  },
  {
   "cell_type": "code",
   "execution_count": null,
   "id": "521c4621",
   "metadata": {},
   "outputs": [],
   "source": []
  },
  {
   "cell_type": "code",
   "execution_count": null,
   "id": "c495229c",
   "metadata": {},
   "outputs": [],
   "source": []
  },
  {
   "cell_type": "code",
   "execution_count": null,
   "id": "a750ca0c",
   "metadata": {},
   "outputs": [],
   "source": []
  }
 ],
 "metadata": {
  "kernelspec": {
   "display_name": "Python 3 (ipykernel)",
   "language": "python",
   "name": "python3"
  },
  "language_info": {
   "codemirror_mode": {
    "name": "ipython",
    "version": 3
   },
   "file_extension": ".py",
   "mimetype": "text/x-python",
   "name": "python",
   "nbconvert_exporter": "python",
   "pygments_lexer": "ipython3",
   "version": "3.9.7"
  },
  "varInspector": {
   "cols": {
    "lenName": 16,
    "lenType": 16,
    "lenVar": 40
   },
   "kernels_config": {
    "python": {
     "delete_cmd_postfix": "",
     "delete_cmd_prefix": "del ",
     "library": "var_list.py",
     "varRefreshCmd": "print(var_dic_list())"
    },
    "r": {
     "delete_cmd_postfix": ") ",
     "delete_cmd_prefix": "rm(",
     "library": "var_list.r",
     "varRefreshCmd": "cat(var_dic_list()) "
    }
   },
   "types_to_exclude": [
    "module",
    "function",
    "builtin_function_or_method",
    "instance",
    "_Feature"
   ],
   "window_display": false
  }
 },
 "nbformat": 4,
 "nbformat_minor": 5
}
